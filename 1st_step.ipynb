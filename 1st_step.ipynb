{
 "cells": [
  {
   "cell_type": "markdown",
   "metadata": {},
   "source": [
    "#### Who were the first persons to climb Everest?\n",
    "        Tenzing Norgay and Edmund Hillary, Right?\n",
    "\n",
    "Sure it is. This is perhaps one of the famous quiz book questions in Nepal. \n",
    "But, As big the Everest is, the bigger mystery, history, and facts it holds.\n",
    "\n",
    "##### How many Sherpas had climb the Everest?\n",
    "\n",
    "##### Which month is the most preferred to climb the Everest?\n",
    "\n",
    "##### Where the most foreigner came from to climb Everest?\n",
    "\n",
    "This answer to these questions would have been unknown if we don't have the data. \n",
    "\n",
    "Department of Tourism published https://drive.google.com/file/d/1oCZ823pRV7HgKnWhrzwPUdf9zpr71sEs/view in a pdf format. We have cleaned and converted the data into a readable format So that we can find some great facts ourselves.\n",
    "\n",
    "We believe this dataset has real value as not much work has been done and a great area to explore is vacant.\n",
    "\n",
    "Some basic tasks have been done as guidance but it is you who have to dive deep and explore the unknown. We\n",
    "would love to read any blogposts, illustrations you prepared after analyzing this dataset."
   ]
  },
  {
   "cell_type": "markdown",
   "metadata": {},
   "source": [
    "### Import necessary Packages\n",
    "First thing first, Let's import all the necessary packages required.\n",
    "If the code below looks frightening to you as you are unknown to Python or NumPy Stack.\n",
    "We suggest you to get hands-on Python https://www.w3schools.com/python/ and some data science\n",
    "skills at https://www.kaggle.com/learn/overview\n"
   ]
  },
  {
   "cell_type": "code",
   "execution_count": 1,
   "metadata": {},
   "outputs": [],
   "source": [
    "import numpy as np\n",
    "import pandas as pd\n",
    "import seaborn as sns\n",
    "import matplotlib.pyplot as plt"
   ]
  },
  {
   "cell_type": "markdown",
   "metadata": {},
   "source": [
    "### Read the dataset"
   ]
  },
  {
   "cell_type": "code",
   "execution_count": 2,
   "metadata": {},
   "outputs": [],
   "source": [
    "summitters_data = pd.read_csv(\"MountaineeringFacts2018.csv\")"
   ]
  },
  {
   "cell_type": "markdown",
   "metadata": {},
   "source": [
    "### Examine the data"
   ]
  },
  {
   "cell_type": "code",
   "execution_count": 3,
   "metadata": {},
   "outputs": [
    {
     "data": {
      "text/html": [
       "<div>\n",
       "<style scoped>\n",
       "    .dataframe tbody tr th:only-of-type {\n",
       "        vertical-align: middle;\n",
       "    }\n",
       "\n",
       "    .dataframe tbody tr th {\n",
       "        vertical-align: top;\n",
       "    }\n",
       "\n",
       "    .dataframe thead th {\n",
       "        text-align: right;\n",
       "    }\n",
       "</style>\n",
       "<table border=\"1\" class=\"dataframe\">\n",
       "  <thead>\n",
       "    <tr style=\"text-align: right;\">\n",
       "      <th></th>\n",
       "      <th>NAME</th>\n",
       "      <th>COUNTRY</th>\n",
       "      <th>DAY</th>\n",
       "      <th>MONTH</th>\n",
       "      <th>YEAR</th>\n",
       "      <th>ROUTE</th>\n",
       "      <th>NAME OF THE TEAM</th>\n",
       "      <th>LEADER</th>\n",
       "    </tr>\n",
       "  </thead>\n",
       "  <tbody>\n",
       "    <tr>\n",
       "      <th>0</th>\n",
       "      <td>TENZING NORGAY</td>\n",
       "      <td>NEPAL</td>\n",
       "      <td>29</td>\n",
       "      <td>5</td>\n",
       "      <td>1953</td>\n",
       "      <td>SOUTHCOL</td>\n",
       "      <td>BRITISH EXPEDITION</td>\n",
       "      <td>Lord John Hunt</td>\n",
       "    </tr>\n",
       "    <tr>\n",
       "      <th>1</th>\n",
       "      <td>EDMUND HILLARY</td>\n",
       "      <td>NEW ZEALAND</td>\n",
       "      <td>29</td>\n",
       "      <td>5</td>\n",
       "      <td>1953</td>\n",
       "      <td>SOUTHCOL</td>\n",
       "      <td>BRITISH EXPEDITION</td>\n",
       "      <td>\"</td>\n",
       "    </tr>\n",
       "    <tr>\n",
       "      <th>2</th>\n",
       "      <td>ERNST SCHMIED</td>\n",
       "      <td>SWITZERLAND</td>\n",
       "      <td>23</td>\n",
       "      <td>5</td>\n",
       "      <td>1956</td>\n",
       "      <td>SOUTHCOL</td>\n",
       "      <td>SWITZERLAND EXPEDITION</td>\n",
       "      <td>Alber Eggler</td>\n",
       "    </tr>\n",
       "    <tr>\n",
       "      <th>3</th>\n",
       "      <td>JUERGE MARMET</td>\n",
       "      <td>SWITZERLAND</td>\n",
       "      <td>23</td>\n",
       "      <td>5</td>\n",
       "      <td>1956</td>\n",
       "      <td>SOUTHCOL</td>\n",
       "      <td>SWITZERLAND EXPEDITION</td>\n",
       "      <td>\"</td>\n",
       "    </tr>\n",
       "    <tr>\n",
       "      <th>4</th>\n",
       "      <td>ADOLF REIST</td>\n",
       "      <td>SWITZERLAND</td>\n",
       "      <td>24</td>\n",
       "      <td>5</td>\n",
       "      <td>1956</td>\n",
       "      <td>SOUTHCOL</td>\n",
       "      <td>SWITZERLAND EXPEDITION</td>\n",
       "      <td>\"</td>\n",
       "    </tr>\n",
       "    <tr>\n",
       "      <th>5</th>\n",
       "      <td>HANSRUDOLFVON</td>\n",
       "      <td>SWITZERLAND</td>\n",
       "      <td>24</td>\n",
       "      <td>5</td>\n",
       "      <td>1956</td>\n",
       "      <td>SOUTHCOL</td>\n",
       "      <td>SWITZERLAND EXPEDITION</td>\n",
       "      <td>\"</td>\n",
       "    </tr>\n",
       "    <tr>\n",
       "      <th>6</th>\n",
       "      <td>WANG FU-CHOU</td>\n",
       "      <td>CHINA</td>\n",
       "      <td>1</td>\n",
       "      <td>1</td>\n",
       "      <td>1960</td>\n",
       "      <td>NORTHCOL</td>\n",
       "      <td>CHINESE EXPEDITION</td>\n",
       "      <td>Shin Chan-Chu</td>\n",
       "    </tr>\n",
       "    <tr>\n",
       "      <th>7</th>\n",
       "      <td>GONPA</td>\n",
       "      <td>CHINA</td>\n",
       "      <td>1</td>\n",
       "      <td>1</td>\n",
       "      <td>1960</td>\n",
       "      <td>NORTHCOL</td>\n",
       "      <td>CHINESE EXPEDITION</td>\n",
       "      <td>\"</td>\n",
       "    </tr>\n",
       "    <tr>\n",
       "      <th>8</th>\n",
       "      <td>CHU YING-HUA</td>\n",
       "      <td>CHINA</td>\n",
       "      <td>1</td>\n",
       "      <td>1</td>\n",
       "      <td>1960</td>\n",
       "      <td>NORTHCOL</td>\n",
       "      <td>CHINESE EXPEDITION</td>\n",
       "      <td>\"</td>\n",
       "    </tr>\n",
       "    <tr>\n",
       "      <th>9</th>\n",
       "      <td>JIM WHITTAKER</td>\n",
       "      <td>USA</td>\n",
       "      <td>1</td>\n",
       "      <td>5</td>\n",
       "      <td>1963</td>\n",
       "      <td>SOUTHCOL</td>\n",
       "      <td>AMERICAN EXPEDITION</td>\n",
       "      <td>Norman Dyhrenfurth</td>\n",
       "    </tr>\n",
       "  </tbody>\n",
       "</table>\n",
       "</div>"
      ],
      "text/plain": [
       "             NAME      COUNTRY  DAY  MONTH  YEAR     ROUTE  \\\n",
       "0  TENZING NORGAY        NEPAL   29      5  1953  SOUTHCOL   \n",
       "1  EDMUND HILLARY  NEW ZEALAND   29      5  1953  SOUTHCOL   \n",
       "2   ERNST SCHMIED  SWITZERLAND   23      5  1956  SOUTHCOL   \n",
       "3   JUERGE MARMET  SWITZERLAND   23      5  1956  SOUTHCOL   \n",
       "4     ADOLF REIST  SWITZERLAND   24      5  1956  SOUTHCOL   \n",
       "5   HANSRUDOLFVON  SWITZERLAND   24      5  1956  SOUTHCOL   \n",
       "6    WANG FU-CHOU        CHINA    1      1  1960  NORTHCOL   \n",
       "7           GONPA        CHINA    1      1  1960  NORTHCOL   \n",
       "8    CHU YING-HUA        CHINA    1      1  1960  NORTHCOL   \n",
       "9   JIM WHITTAKER          USA    1      5  1963  SOUTHCOL   \n",
       "\n",
       "         NAME OF THE TEAM              LEADER  \n",
       "0      BRITISH EXPEDITION      Lord John Hunt  \n",
       "1      BRITISH EXPEDITION                   \"  \n",
       "2  SWITZERLAND EXPEDITION        Alber Eggler  \n",
       "3  SWITZERLAND EXPEDITION                   \"  \n",
       "4  SWITZERLAND EXPEDITION                   \"  \n",
       "5  SWITZERLAND EXPEDITION                   \"  \n",
       "6      CHINESE EXPEDITION       Shin Chan-Chu  \n",
       "7      CHINESE EXPEDITION                   \"  \n",
       "8      CHINESE EXPEDITION                   \"  \n",
       "9     AMERICAN EXPEDITION  Norman Dyhrenfurth  "
      ]
     },
     "execution_count": 3,
     "metadata": {},
     "output_type": "execute_result"
    }
   ],
   "source": [
    "# Prints first 10 entries in the dataset\n",
    "summitters_data.head(10)"
   ]
  },
  {
   "cell_type": "code",
   "execution_count": 4,
   "metadata": {},
   "outputs": [
    {
     "data": {
      "text/plain": [
       "Index(['NAME', 'COUNTRY', 'DAY', 'MONTH', 'YEAR', 'ROUTE', 'NAME OF THE TEAM',\n",
       "       'LEADER'],\n",
       "      dtype='object')"
      ]
     },
     "execution_count": 4,
     "metadata": {},
     "output_type": "execute_result"
    }
   ],
   "source": [
    "summitters_data.columns"
   ]
  },
  {
   "cell_type": "markdown",
   "metadata": {},
   "source": [
    "As we can see there are 8 columns in the dataset.\n",
    "\n",
    "NAME = Name of the summitter\n",
    "\n",
    "COUNTRY = Country of the summitter\n",
    "\n",
    "DAY MONTH YEAR = Date of summit\n",
    "\n",
    "ROUTE = Route to summit\n",
    "\n",
    "NAME OF THE TEAM\n",
    "\n",
    "LEADER"
   ]
  },
  {
   "cell_type": "code",
   "execution_count": 5,
   "metadata": {},
   "outputs": [
    {
     "data": {
      "text/html": [
       "<div>\n",
       "<style scoped>\n",
       "    .dataframe tbody tr th:only-of-type {\n",
       "        vertical-align: middle;\n",
       "    }\n",
       "\n",
       "    .dataframe tbody tr th {\n",
       "        vertical-align: top;\n",
       "    }\n",
       "\n",
       "    .dataframe thead th {\n",
       "        text-align: right;\n",
       "    }\n",
       "</style>\n",
       "<table border=\"1\" class=\"dataframe\">\n",
       "  <thead>\n",
       "    <tr style=\"text-align: right;\">\n",
       "      <th></th>\n",
       "      <th>NAME</th>\n",
       "      <th>COUNTRY</th>\n",
       "      <th>DAY</th>\n",
       "      <th>MONTH</th>\n",
       "      <th>YEAR</th>\n",
       "      <th>ROUTE</th>\n",
       "      <th>NAME OF THE TEAM</th>\n",
       "      <th>LEADER</th>\n",
       "    </tr>\n",
       "  </thead>\n",
       "  <tbody>\n",
       "    <tr>\n",
       "      <th>5296</th>\n",
       "      <td>MR. PEMBA RITA SHERPA</td>\n",
       "      <td>NEPAL</td>\n",
       "      <td>27</td>\n",
       "      <td>5</td>\n",
       "      <td>2017</td>\n",
       "      <td>NaN</td>\n",
       "      <td>\"</td>\n",
       "      <td>\"</td>\n",
       "    </tr>\n",
       "    <tr>\n",
       "      <th>5297</th>\n",
       "      <td>MR. PASANG GYALZEN</td>\n",
       "      <td>NEPAL</td>\n",
       "      <td>27</td>\n",
       "      <td>5</td>\n",
       "      <td>2017</td>\n",
       "      <td>NaN</td>\n",
       "      <td>“</td>\n",
       "      <td>“</td>\n",
       "    </tr>\n",
       "    <tr>\n",
       "      <th>5298</th>\n",
       "      <td>MR. MINGMA DORJI SHERPA</td>\n",
       "      <td>NEPAL</td>\n",
       "      <td>16</td>\n",
       "      <td>5</td>\n",
       "      <td>2017</td>\n",
       "      <td>NaN</td>\n",
       "      <td>\"</td>\n",
       "      <td>\"</td>\n",
       "    </tr>\n",
       "    <tr>\n",
       "      <th>5299</th>\n",
       "      <td>MR. DAWA SANGE SHERPA</td>\n",
       "      <td>NEPAL</td>\n",
       "      <td>21</td>\n",
       "      <td>5</td>\n",
       "      <td>2017</td>\n",
       "      <td>NaN</td>\n",
       "      <td>\"</td>\n",
       "      <td>\"</td>\n",
       "    </tr>\n",
       "    <tr>\n",
       "      <th>5300</th>\n",
       "      <td>MR. PASANG BHOTE</td>\n",
       "      <td>NEPAL</td>\n",
       "      <td>21</td>\n",
       "      <td>5</td>\n",
       "      <td>2017</td>\n",
       "      <td>NaN</td>\n",
       "      <td>\"</td>\n",
       "      <td>\"</td>\n",
       "    </tr>\n",
       "  </tbody>\n",
       "</table>\n",
       "</div>"
      ],
      "text/plain": [
       "                         NAME COUNTRY  DAY  MONTH  YEAR ROUTE  \\\n",
       "5296    MR. PEMBA RITA SHERPA   NEPAL   27      5  2017   NaN   \n",
       "5297       MR. PASANG GYALZEN   NEPAL   27      5  2017   NaN   \n",
       "5298  MR. MINGMA DORJI SHERPA   NEPAL   16      5  2017   NaN   \n",
       "5299    MR. DAWA SANGE SHERPA   NEPAL   21      5  2017   NaN   \n",
       "5300         MR. PASANG BHOTE   NEPAL   21      5  2017   NaN   \n",
       "\n",
       "     NAME OF THE TEAM LEADER  \n",
       "5296                \"      \"  \n",
       "5297                “      “  \n",
       "5298                \"      \"  \n",
       "5299                \"      \"  \n",
       "5300                \"      \"  "
      ]
     },
     "execution_count": 5,
     "metadata": {},
     "output_type": "execute_result"
    }
   ],
   "source": [
    "# Prints the last five entries of the data\n",
    "summitters_data.tail()"
   ]
  },
  {
   "cell_type": "code",
   "execution_count": 6,
   "metadata": {},
   "outputs": [
    {
     "name": "stdout",
     "output_type": "stream",
     "text": [
      "<class 'pandas.core.frame.DataFrame'>\n",
      "RangeIndex: 5301 entries, 0 to 5300\n",
      "Data columns (total 8 columns):\n",
      " #   Column            Non-Null Count  Dtype \n",
      "---  ------            --------------  ----- \n",
      " 0   NAME              5301 non-null   object\n",
      " 1   COUNTRY           5301 non-null   object\n",
      " 2   DAY               5301 non-null   int64 \n",
      " 3   MONTH             5301 non-null   int64 \n",
      " 4   YEAR              5301 non-null   int64 \n",
      " 5   ROUTE             2692 non-null   object\n",
      " 6   NAME OF THE TEAM  5297 non-null   object\n",
      " 7   LEADER            5261 non-null   object\n",
      "dtypes: int64(3), object(5)\n",
      "memory usage: 331.4+ KB\n"
     ]
    }
   ],
   "source": [
    "summitters_data.info()\n",
    "#This provide a brief descriptive stat about our data\n",
    "# Look for missing values here."
   ]
  },
  {
   "cell_type": "markdown",
   "metadata": {},
   "source": [
    "### Which is the most famous month to climb Everest?\n",
    "5 i.e May is when there are many successful climbing is done."
   ]
  },
  {
   "cell_type": "code",
   "execution_count": 7,
   "metadata": {},
   "outputs": [
    {
     "data": {
      "text/plain": [
       "5     4929\n",
       "10     223\n",
       "9       51\n",
       "4       34\n",
       "1       22\n",
       "6       15\n",
       "12      12\n",
       "8        6\n",
       "11       4\n",
       "7        2\n",
       "2        2\n",
       "3        1\n",
       "Name: MONTH, dtype: int64"
      ]
     },
     "execution_count": 7,
     "metadata": {},
     "output_type": "execute_result"
    }
   ],
   "source": [
    "summitters_data[\"MONTH\"].value_counts()"
   ]
  },
  {
   "cell_type": "code",
   "execution_count": 8,
   "metadata": {},
   "outputs": [
    {
     "data": {
      "text/plain": [
       "<matplotlib.axes._subplots.AxesSubplot at 0x7f3fea4dd550>"
      ]
     },
     "execution_count": 8,
     "metadata": {},
     "output_type": "execute_result"
    },
    {
     "data": {
      "image/png": "[encoded data removed]",
      "text/plain": [
       "<Figure size 1008x432 with 1 Axes>"
      ]
     },
     "metadata": {
      "needs_background": "light"
     },
     "output_type": "display_data"
    }
   ],
   "source": [
    "# Set the width and height of the figure\n",
    "plt.figure(figsize=(14,6))\n",
    "\n",
    "# Add title\n",
    "plt.title(\"Number of Climbers according to Month\")\n",
    "\n",
    "sns.countplot(data=summitters_data, x=\"MONTH\")"
   ]
  },
  {
   "cell_type": "markdown",
   "metadata": {},
   "source": [
    "### Which year we got the must climbs?"
   ]
  },
  {
   "cell_type": "code",
   "execution_count": 9,
   "metadata": {},
   "outputs": [
    {
     "data": {
      "text/plain": [
       "2013    578\n",
       "2016    451\n",
       "2017    423\n",
       "2012    408\n",
       "2008    380\n",
       "2011    378\n",
       "2009    368\n",
       "2010    365\n",
       "2007    258\n",
       "2006    183\n",
       "Name: YEAR, dtype: int64"
      ]
     },
     "execution_count": 9,
     "metadata": {},
     "output_type": "execute_result"
    }
   ],
   "source": [
    "summitters_data[\"YEAR\"].value_counts()[:10]"
   ]
  },
  {
   "cell_type": "code",
   "execution_count": 10,
   "metadata": {},
   "outputs": [
    {
     "data": {
      "text/plain": [
       "<matplotlib.axes._subplots.AxesSubplot at 0x7f3fe84bcb20>"
      ]
     },
     "execution_count": 10,
     "metadata": {},
     "output_type": "execute_result"
    },
    {
     "data": {
      "image/png": "[encoded data removed]",
      "text/plain": [
       "<Figure size 2160x432 with 1 Axes>"
      ]
     },
     "metadata": {
      "needs_background": "light"
     },
     "output_type": "display_data"
    }
   ],
   "source": [
    "plt.figure(figsize=(30,6))\n",
    "sns.countplot(data=summitters_data, x=\"YEAR\")"
   ]
  },
  {
   "cell_type": "markdown",
   "metadata": {},
   "source": [
    "Everest got most climbs in the Year 2013. As we can see we don't have data for 2015 as Everest was closed due to Earthquake."
   ]
  },
  {
   "cell_type": "code",
   "execution_count": 102,
   "metadata": {},
   "outputs": [
    {
     "data": {
      "text/plain": [
       "0      1953-05-29\n",
       "1      1953-05-29\n",
       "2      1956-05-23\n",
       "3      1956-05-23\n",
       "4      1956-05-24\n",
       "          ...    \n",
       "5296   2017-05-27\n",
       "5297   2017-05-27\n",
       "5298   2017-05-16\n",
       "5299   2017-05-21\n",
       "5300   2017-05-21\n",
       "Length: 5301, dtype: datetime64[ns]"
      ]
     },
     "execution_count": 102,
     "metadata": {},
     "output_type": "execute_result"
    }
   ],
   "source": [
    "date_df = pd.to_datetime(summitters_data[[\"YEAR\", \"MONTH\", \"DAY\"]])\n",
    "date_df"
   ]
  },
  {
   "cell_type": "markdown",
   "metadata": {},
   "source": [
    "### Which country have most Climbers?"
   ]
  },
  {
   "cell_type": "code",
   "execution_count": 16,
   "metadata": {},
   "outputs": [
    {
     "data": {
      "text/plain": [
       "NEPAL           2785\n",
       "USA              624\n",
       "INDIA            312\n",
       "UK               263\n",
       "JAPAN            124\n",
       "                ... \n",
       "CZECH              1\n",
       "PANAMA             1\n",
       "AUSTRIAN           1\n",
       "PALESTINE          1\n",
       "TAIPEI CHINA       1\n",
       "Name: COUNTRY, Length: 101, dtype: int64"
      ]
     },
     "execution_count": 16,
     "metadata": {},
     "output_type": "execute_result"
    }
   ],
   "source": [
    "summitters_data[\"COUNTRY\"].value_counts()"
   ]
  },
  {
   "cell_type": "markdown",
   "metadata": {},
   "source": [
    "In this notebook we have just scratch something of the dataset. There is a lot of space to explore the dataset on your own. We hope you will find something fascinating very soon."
   ]
  },
  {
   "cell_type": "code",
   "execution_count": null,
   "metadata": {},
   "outputs": [],
   "source": []
  }
 ],
 "metadata": {
  "kernelspec": {
   "display_name": "Python 3",
   "language": "python",
   "name": "python3"
  },
  "language_info": {
   "codemirror_mode": {
    "name": "ipython",
    "version": 3
   },
   "file_extension": ".py",
   "mimetype": "text/x-python",
   "name": "python",
   "nbconvert_exporter": "python",
   "pygments_lexer": "ipython3",
   "version": "3.8.2"
  }
 },
 "nbformat": 4,
 "nbformat_minor": 4
}
